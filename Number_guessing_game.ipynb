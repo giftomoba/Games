{
 "cells": [
  {
   "cell_type": "code",
   "execution_count": 1,
   "id": "ffe15d84-8ab6-49e8-9585-46ba9b4ac1ca",
   "metadata": {},
   "outputs": [],
   "source": [
    "import random"
   ]
  },
  {
   "cell_type": "code",
   "execution_count": 89,
   "id": "e50cf61e-f985-407e-9aff-d9420353d25c",
   "metadata": {},
   "outputs": [],
   "source": [
    "def guess_my_number():\n",
    "    my_num = random.randint(1,15)\n",
    "    print('I have guessed a number between 1 to 15. Can you guess my number?')\n",
    "    guess_no = 0\n",
    "    while guess_no != my_num:\n",
    "        guess_no = int(input(\"Enter your number here: \"))\n",
    "        if guess_no == my_num:\n",
    "            print(f\"You're a Genius!!! You read my mind. I chosed {my_num} and you guessed {guess_no}.\")\n",
    "            break\n",
    "        elif guess_no < my_num:\n",
    "            print(f\"Oops!!! You guessed wrong. You guessed {guess_no}. Keep Trying.\\nHere's a hint: My number is greater than yours.\")\n",
    "        else:\n",
    "            print(f\"Oops!!! You guessed wrong. You guessed {guess_no}. Keep Trying.\\nHere's a hint: My number is lesser than yours.\")"
   ]
  },
  {
   "cell_type": "code",
   "execution_count": 91,
   "id": "362a2d7d-b44f-4367-a5d4-3b1a66dd53ef",
   "metadata": {},
   "outputs": [
    {
     "name": "stdout",
     "output_type": "stream",
     "text": [
      "I have guessed a number between 1 to 15. Can you guess my number?\n"
     ]
    },
    {
     "name": "stdin",
     "output_type": "stream",
     "text": [
      "Enter your number here:  5\n"
     ]
    },
    {
     "name": "stdout",
     "output_type": "stream",
     "text": [
      "Oops!!! You guessed wrong. You guessed 5. Keep Trying.\n",
      "Here's a hint: My number is lesser than yours.\n"
     ]
    },
    {
     "name": "stdin",
     "output_type": "stream",
     "text": [
      "Enter your number here:  3\n"
     ]
    },
    {
     "name": "stdout",
     "output_type": "stream",
     "text": [
      "Oops!!! You guessed wrong. You guessed 3. Keep Trying.\n",
      "Here's a hint: My number is lesser than yours.\n"
     ]
    },
    {
     "name": "stdin",
     "output_type": "stream",
     "text": [
      "Enter your number here:  2\n"
     ]
    },
    {
     "name": "stdout",
     "output_type": "stream",
     "text": [
      "Oops!!! You guessed wrong. You guessed 2. Keep Trying.\n",
      "Here's a hint: My number is lesser than yours.\n"
     ]
    },
    {
     "name": "stdin",
     "output_type": "stream",
     "text": [
      "Enter your number here:  1\n"
     ]
    },
    {
     "name": "stdout",
     "output_type": "stream",
     "text": [
      "You're a Genius!!! You read my mind. I chosed 1 and you guessed 1.\n"
     ]
    }
   ],
   "source": [
    "guess_my_number()"
   ]
  },
  {
   "cell_type": "code",
   "execution_count": null,
   "id": "e78366ca-dd24-4f3a-af7b-8b148952f667",
   "metadata": {},
   "outputs": [],
   "source": []
  },
  {
   "cell_type": "code",
   "execution_count": null,
   "id": "7ce0e65c-c9c5-49b0-877f-97183c0653f5",
   "metadata": {},
   "outputs": [],
   "source": []
  },
  {
   "cell_type": "code",
   "execution_count": null,
   "id": "ef5abcae-ef67-4f47-a754-b8f9944cd352",
   "metadata": {},
   "outputs": [],
   "source": []
  },
  {
   "cell_type": "code",
   "execution_count": null,
   "id": "bb6eb35e-40b6-4960-9afd-63732e8a9500",
   "metadata": {},
   "outputs": [],
   "source": []
  }
 ],
 "metadata": {
  "kernelspec": {
   "display_name": "Python 3 (ipykernel)",
   "language": "python",
   "name": "python3"
  },
  "language_info": {
   "codemirror_mode": {
    "name": "ipython",
    "version": 3
   },
   "file_extension": ".py",
   "mimetype": "text/x-python",
   "name": "python",
   "nbconvert_exporter": "python",
   "pygments_lexer": "ipython3",
   "version": "3.12.4"
  }
 },
 "nbformat": 4,
 "nbformat_minor": 5
}
